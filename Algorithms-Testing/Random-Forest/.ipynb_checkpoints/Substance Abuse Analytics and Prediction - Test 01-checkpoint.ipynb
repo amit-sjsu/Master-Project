{
 "cells": [
  {
   "cell_type": "code",
   "execution_count": 116,
   "metadata": {
    "collapsed": true
   },
   "outputs": [],
   "source": [
    "import pandas as pd\n",
    "import numpy as np\n",
    "from sklearn.preprocessing import LabelEncoder\n",
    "import random\n",
    "from sklearn.ensemble import RandomForestClassifier\n",
    "from sklearn.ensemble import GradientBoostingClassifier"
   ]
  },
  {
   "cell_type": "code",
   "execution_count": 117,
   "metadata": {},
   "outputs": [],
   "source": [
    "train=pd.read_csv('/Users/anshul/Documents/CMPE295A/ICPSR_35074/DS0001/training_10000.tsv', sep='\\t')\n",
    "test=pd.read_csv('/Users/anshul/Documents/CMPE295A/ICPSR_35074/DS0001/test_1.tsv', sep='\\t')\n",
    "\n",
    "\n",
    "train['Type']='Train' #Create a flag for Train and Test Data set\n",
    "test['Type']='Test'\n",
    "fullData = pd.concat([train,test],axis=0) #Combined both Train and Test Data set"
   ]
  },
  {
   "cell_type": "code",
   "execution_count": 118,
   "metadata": {},
   "outputs": [
    {
     "data": {
      "text/html": [
       "<div>\n",
       "<style>\n",
       "    .dataframe thead tr:only-child th {\n",
       "        text-align: right;\n",
       "    }\n",
       "\n",
       "    .dataframe thead th {\n",
       "        text-align: left;\n",
       "    }\n",
       "\n",
       "    .dataframe tbody tr th {\n",
       "        vertical-align: top;\n",
       "    }\n",
       "</style>\n",
       "<table border=\"1\" class=\"dataframe\">\n",
       "  <thead>\n",
       "    <tr style=\"text-align: right;\">\n",
       "      <th></th>\n",
       "      <th>CASEID</th>\n",
       "      <th>DISYR</th>\n",
       "      <th>AGE</th>\n",
       "      <th>GENDER</th>\n",
       "      <th>RACE</th>\n",
       "      <th>ETHNIC</th>\n",
       "      <th>MARSTAT</th>\n",
       "      <th>EDUC</th>\n",
       "      <th>EMPLOY</th>\n",
       "      <th>DETNLF</th>\n",
       "      <th>...</th>\n",
       "      <th>SEDHPFLG</th>\n",
       "      <th>INHFLG</th>\n",
       "      <th>OTCFLG</th>\n",
       "      <th>OTHERFLG</th>\n",
       "      <th>ALCDRUG</th>\n",
       "      <th>DSMCRIT</th>\n",
       "      <th>PSYPROB</th>\n",
       "      <th>HLTHINS</th>\n",
       "      <th>PRIMPAY</th>\n",
       "      <th>ALCOHOL</th>\n",
       "    </tr>\n",
       "  </thead>\n",
       "  <tbody>\n",
       "    <tr>\n",
       "      <th>count</th>\n",
       "      <td>1.199900e+04</td>\n",
       "      <td>11999.0</td>\n",
       "      <td>11999.000000</td>\n",
       "      <td>11999.000000</td>\n",
       "      <td>11999.000000</td>\n",
       "      <td>11999.000000</td>\n",
       "      <td>11999.000000</td>\n",
       "      <td>11999.000000</td>\n",
       "      <td>11999.000000</td>\n",
       "      <td>11999.000000</td>\n",
       "      <td>...</td>\n",
       "      <td>11999.000000</td>\n",
       "      <td>11999.000000</td>\n",
       "      <td>11999.000000</td>\n",
       "      <td>11999.000000</td>\n",
       "      <td>11999.000000</td>\n",
       "      <td>11999.000000</td>\n",
       "      <td>11999.000000</td>\n",
       "      <td>11999.000000</td>\n",
       "      <td>11999.000000</td>\n",
       "      <td>11999.000000</td>\n",
       "    </tr>\n",
       "    <tr>\n",
       "      <th>mean</th>\n",
       "      <td>2.928142e+05</td>\n",
       "      <td>2011.0</td>\n",
       "      <td>7.227602</td>\n",
       "      <td>1.336195</td>\n",
       "      <td>5.538712</td>\n",
       "      <td>4.686724</td>\n",
       "      <td>0.429869</td>\n",
       "      <td>2.691558</td>\n",
       "      <td>2.833403</td>\n",
       "      <td>-5.173598</td>\n",
       "      <td>...</td>\n",
       "      <td>0.006084</td>\n",
       "      <td>0.003834</td>\n",
       "      <td>0.003417</td>\n",
       "      <td>0.028002</td>\n",
       "      <td>2.120843</td>\n",
       "      <td>-0.215685</td>\n",
       "      <td>-0.333361</td>\n",
       "      <td>-2.642804</td>\n",
       "      <td>-2.564297</td>\n",
       "      <td>0.428452</td>\n",
       "    </tr>\n",
       "    <tr>\n",
       "      <th>std</th>\n",
       "      <td>6.435723e+05</td>\n",
       "      <td>0.0</td>\n",
       "      <td>2.626138</td>\n",
       "      <td>0.561131</td>\n",
       "      <td>4.072990</td>\n",
       "      <td>1.534061</td>\n",
       "      <td>3.718920</td>\n",
       "      <td>1.727508</td>\n",
       "      <td>1.640918</td>\n",
       "      <td>5.996202</td>\n",
       "      <td>...</td>\n",
       "      <td>0.077765</td>\n",
       "      <td>0.061800</td>\n",
       "      <td>0.058357</td>\n",
       "      <td>0.164986</td>\n",
       "      <td>0.811896</td>\n",
       "      <td>7.869433</td>\n",
       "      <td>4.292391</td>\n",
       "      <td>6.171367</td>\n",
       "      <td>6.982942</td>\n",
       "      <td>0.494875</td>\n",
       "    </tr>\n",
       "    <tr>\n",
       "      <th>min</th>\n",
       "      <td>1.000000e+00</td>\n",
       "      <td>2011.0</td>\n",
       "      <td>2.000000</td>\n",
       "      <td>-9.000000</td>\n",
       "      <td>-9.000000</td>\n",
       "      <td>-9.000000</td>\n",
       "      <td>-9.000000</td>\n",
       "      <td>-9.000000</td>\n",
       "      <td>-9.000000</td>\n",
       "      <td>-9.000000</td>\n",
       "      <td>...</td>\n",
       "      <td>0.000000</td>\n",
       "      <td>0.000000</td>\n",
       "      <td>0.000000</td>\n",
       "      <td>0.000000</td>\n",
       "      <td>0.000000</td>\n",
       "      <td>-9.000000</td>\n",
       "      <td>-9.000000</td>\n",
       "      <td>-9.000000</td>\n",
       "      <td>-9.000000</td>\n",
       "      <td>0.000000</td>\n",
       "    </tr>\n",
       "    <tr>\n",
       "      <th>25%</th>\n",
       "      <td>3.000500e+03</td>\n",
       "      <td>2011.0</td>\n",
       "      <td>5.000000</td>\n",
       "      <td>1.000000</td>\n",
       "      <td>5.000000</td>\n",
       "      <td>5.000000</td>\n",
       "      <td>1.000000</td>\n",
       "      <td>2.000000</td>\n",
       "      <td>3.000000</td>\n",
       "      <td>-9.000000</td>\n",
       "      <td>...</td>\n",
       "      <td>0.000000</td>\n",
       "      <td>0.000000</td>\n",
       "      <td>0.000000</td>\n",
       "      <td>0.000000</td>\n",
       "      <td>1.000000</td>\n",
       "      <td>-9.000000</td>\n",
       "      <td>1.000000</td>\n",
       "      <td>-9.000000</td>\n",
       "      <td>-9.000000</td>\n",
       "      <td>0.000000</td>\n",
       "    </tr>\n",
       "    <tr>\n",
       "      <th>50%</th>\n",
       "      <td>6.000000e+03</td>\n",
       "      <td>2011.0</td>\n",
       "      <td>7.000000</td>\n",
       "      <td>1.000000</td>\n",
       "      <td>5.000000</td>\n",
       "      <td>5.000000</td>\n",
       "      <td>1.000000</td>\n",
       "      <td>3.000000</td>\n",
       "      <td>3.000000</td>\n",
       "      <td>-9.000000</td>\n",
       "      <td>...</td>\n",
       "      <td>0.000000</td>\n",
       "      <td>0.000000</td>\n",
       "      <td>0.000000</td>\n",
       "      <td>0.000000</td>\n",
       "      <td>2.000000</td>\n",
       "      <td>4.000000</td>\n",
       "      <td>2.000000</td>\n",
       "      <td>1.000000</td>\n",
       "      <td>-9.000000</td>\n",
       "      <td>0.000000</td>\n",
       "    </tr>\n",
       "    <tr>\n",
       "      <th>75%</th>\n",
       "      <td>8.999500e+03</td>\n",
       "      <td>2011.0</td>\n",
       "      <td>9.000000</td>\n",
       "      <td>2.000000</td>\n",
       "      <td>5.000000</td>\n",
       "      <td>5.000000</td>\n",
       "      <td>2.000000</td>\n",
       "      <td>3.000000</td>\n",
       "      <td>4.000000</td>\n",
       "      <td>2.000000</td>\n",
       "      <td>...</td>\n",
       "      <td>0.000000</td>\n",
       "      <td>0.000000</td>\n",
       "      <td>0.000000</td>\n",
       "      <td>0.000000</td>\n",
       "      <td>3.000000</td>\n",
       "      <td>6.000000</td>\n",
       "      <td>2.000000</td>\n",
       "      <td>4.000000</td>\n",
       "      <td>5.000000</td>\n",
       "      <td>1.000000</td>\n",
       "    </tr>\n",
       "    <tr>\n",
       "      <th>max</th>\n",
       "      <td>1.732741e+06</td>\n",
       "      <td>2011.0</td>\n",
       "      <td>12.000000</td>\n",
       "      <td>2.000000</td>\n",
       "      <td>23.000000</td>\n",
       "      <td>6.000000</td>\n",
       "      <td>4.000000</td>\n",
       "      <td>5.000000</td>\n",
       "      <td>4.000000</td>\n",
       "      <td>6.000000</td>\n",
       "      <td>...</td>\n",
       "      <td>1.000000</td>\n",
       "      <td>1.000000</td>\n",
       "      <td>1.000000</td>\n",
       "      <td>1.000000</td>\n",
       "      <td>3.000000</td>\n",
       "      <td>20.000000</td>\n",
       "      <td>2.000000</td>\n",
       "      <td>4.000000</td>\n",
       "      <td>9.000000</td>\n",
       "      <td>1.000000</td>\n",
       "    </tr>\n",
       "  </tbody>\n",
       "</table>\n",
       "<p>8 rows × 66 columns</p>\n",
       "</div>"
      ],
      "text/plain": [
       "             CASEID    DISYR           AGE        GENDER          RACE  \\\n",
       "count  1.199900e+04  11999.0  11999.000000  11999.000000  11999.000000   \n",
       "mean   2.928142e+05   2011.0      7.227602      1.336195      5.538712   \n",
       "std    6.435723e+05      0.0      2.626138      0.561131      4.072990   \n",
       "min    1.000000e+00   2011.0      2.000000     -9.000000     -9.000000   \n",
       "25%    3.000500e+03   2011.0      5.000000      1.000000      5.000000   \n",
       "50%    6.000000e+03   2011.0      7.000000      1.000000      5.000000   \n",
       "75%    8.999500e+03   2011.0      9.000000      2.000000      5.000000   \n",
       "max    1.732741e+06   2011.0     12.000000      2.000000     23.000000   \n",
       "\n",
       "             ETHNIC       MARSTAT          EDUC        EMPLOY        DETNLF  \\\n",
       "count  11999.000000  11999.000000  11999.000000  11999.000000  11999.000000   \n",
       "mean       4.686724      0.429869      2.691558      2.833403     -5.173598   \n",
       "std        1.534061      3.718920      1.727508      1.640918      5.996202   \n",
       "min       -9.000000     -9.000000     -9.000000     -9.000000     -9.000000   \n",
       "25%        5.000000      1.000000      2.000000      3.000000     -9.000000   \n",
       "50%        5.000000      1.000000      3.000000      3.000000     -9.000000   \n",
       "75%        5.000000      2.000000      3.000000      4.000000      2.000000   \n",
       "max        6.000000      4.000000      5.000000      4.000000      6.000000   \n",
       "\n",
       "           ...           SEDHPFLG        INHFLG        OTCFLG      OTHERFLG  \\\n",
       "count      ...       11999.000000  11999.000000  11999.000000  11999.000000   \n",
       "mean       ...           0.006084      0.003834      0.003417      0.028002   \n",
       "std        ...           0.077765      0.061800      0.058357      0.164986   \n",
       "min        ...           0.000000      0.000000      0.000000      0.000000   \n",
       "25%        ...           0.000000      0.000000      0.000000      0.000000   \n",
       "50%        ...           0.000000      0.000000      0.000000      0.000000   \n",
       "75%        ...           0.000000      0.000000      0.000000      0.000000   \n",
       "max        ...           1.000000      1.000000      1.000000      1.000000   \n",
       "\n",
       "            ALCDRUG       DSMCRIT       PSYPROB       HLTHINS       PRIMPAY  \\\n",
       "count  11999.000000  11999.000000  11999.000000  11999.000000  11999.000000   \n",
       "mean       2.120843     -0.215685     -0.333361     -2.642804     -2.564297   \n",
       "std        0.811896      7.869433      4.292391      6.171367      6.982942   \n",
       "min        0.000000     -9.000000     -9.000000     -9.000000     -9.000000   \n",
       "25%        1.000000     -9.000000      1.000000     -9.000000     -9.000000   \n",
       "50%        2.000000      4.000000      2.000000      1.000000     -9.000000   \n",
       "75%        3.000000      6.000000      2.000000      4.000000      5.000000   \n",
       "max        3.000000     20.000000      2.000000      4.000000      9.000000   \n",
       "\n",
       "            ALCOHOL  \n",
       "count  11999.000000  \n",
       "mean       0.428452  \n",
       "std        0.494875  \n",
       "min        0.000000  \n",
       "25%        0.000000  \n",
       "50%        0.000000  \n",
       "75%        1.000000  \n",
       "max        1.000000  \n",
       "\n",
       "[8 rows x 66 columns]"
      ]
     },
     "execution_count": 118,
     "metadata": {},
     "output_type": "execute_result"
    }
   ],
   "source": [
    "fullData.columns # This will show all the column names\n",
    "fullData.head(10) # Show first 10 records of dataframe\n",
    "fullData.describe() #You can look at summary of numerical fields by using describe() function\n",
    "#train.head(2)"
   ]
  },
  {
   "cell_type": "code",
   "execution_count": 119,
   "metadata": {},
   "outputs": [
    {
     "data": {
      "text/plain": [
       "CASEID      False\n",
       "DISYR       False\n",
       "AGE         False\n",
       "GENDER      False\n",
       "RACE        False\n",
       "ETHNIC      False\n",
       "MARSTAT     False\n",
       "EDUC        False\n",
       "EMPLOY      False\n",
       "DETNLF      False\n",
       "PREG        False\n",
       "VET         False\n",
       "LIVARAG     False\n",
       "PRIMINC     False\n",
       "ARRESTS     False\n",
       "STFIPS      False\n",
       "CBSA        False\n",
       "PMSA        False\n",
       "REGION      False\n",
       "DIVISION    False\n",
       "SERVSETD    False\n",
       "METHUSE     False\n",
       "DAYWAIT     False\n",
       "REASON      False\n",
       "LOS         False\n",
       "PSOURCE     False\n",
       "DETCRIM     False\n",
       "NOPRIOR     False\n",
       "SUB1        False\n",
       "ROUTE1      False\n",
       "            ...  \n",
       "ROUTE3      False\n",
       "FREQ3       False\n",
       "FRSTUSE3    False\n",
       "NUMSUBS     False\n",
       "IDU         False\n",
       "ALCFLG      False\n",
       "COKEFLG     False\n",
       "MARFLG      False\n",
       "HERFLG      False\n",
       "METHFLG     False\n",
       "OPSYNFLG    False\n",
       "PCPFLG      False\n",
       "HALLFLG     False\n",
       "MTHAMFLG    False\n",
       "AMPHFLG     False\n",
       "STIMFLG     False\n",
       "BENZFLG     False\n",
       "TRNQFLG     False\n",
       "BARBFLG     False\n",
       "SEDHPFLG    False\n",
       "INHFLG      False\n",
       "OTCFLG      False\n",
       "OTHERFLG    False\n",
       "ALCDRUG     False\n",
       "DSMCRIT     False\n",
       "PSYPROB     False\n",
       "HLTHINS     False\n",
       "PRIMPAY     False\n",
       "ALCOHOL     False\n",
       "Type        False\n",
       "Length: 67, dtype: bool"
      ]
     },
     "execution_count": 119,
     "metadata": {},
     "output_type": "execute_result"
    }
   ],
   "source": [
    "fullData.isnull().any()"
   ]
  },
  {
   "cell_type": "code",
   "execution_count": 120,
   "metadata": {
    "collapsed": true
   },
   "outputs": [],
   "source": [
    "ID_col = ['CASEID']\n",
    "target_col = [\"ALCFLG\"]\n",
    "cat_cols = ['AGE','GENDER','RACE','ETHNIC','MARSTAT','EDUC','EMPLOY','DETNLF','PREG','VET','LIVARAG','PRIMINC','ARRESTS','STFIPS','CBSA','PMSA','REGION','DIVISION','SERVSETD','METHUSE','DAYWAIT','REASON','LOS','PSOURCE','DETCRIM','NOPRIOR','ROUTE1','FREQ1','FRSTUSE1','ROUTE2','FREQ2','FRSTUSE2','ROUTE3','FREQ3','FRSTUSE3','NUMSUBS','IDU']\n",
    "num_cols= list(set(list(fullData.columns))-set(cat_cols)-set(ID_col)-set(target_col))\n",
    "other_col=['Type'] #Test and Train Data set identifier"
   ]
  },
  {
   "cell_type": "code",
   "execution_count": 121,
   "metadata": {
    "collapsed": true
   },
   "outputs": [],
   "source": [
    "num_cat_cols = num_cols+cat_cols # Combined numerical and Categorical variables\n",
    "\n",
    "#Create a new variable for each variable having missing value with VariableName_NA \n",
    "# and flag missing value with 1 and other with 0\n",
    "\n",
    "for var in num_cat_cols:\n",
    "    if  fullData[var].isnull().any()==True:\n",
    "        fullData[var+'_NA']=fullData[var].isnull()*1 \n",
    "        \n",
    "        \n",
    "        "
   ]
  },
  {
   "cell_type": "code",
   "execution_count": 77,
   "metadata": {
    "collapsed": true
   },
   "outputs": [],
   "source": [
    "#fullData[num_cols] = fullData[num_cols].fillna(fullData[num_cols].mean(),inplace=True)"
   ]
  },
  {
   "cell_type": "code",
   "execution_count": 79,
   "metadata": {
    "collapsed": true
   },
   "outputs": [],
   "source": [
    "#Impute categorical missing values with -9999\n",
    "#fullData[cat_cols] = fullData[cat_cols].fillna(value = -9999)"
   ]
  },
  {
   "cell_type": "code",
   "execution_count": 80,
   "metadata": {
    "collapsed": true
   },
   "outputs": [],
   "source": [
    "#create label encoders for categorical features\n",
    "#for var in cat_cols:\n",
    "# number = LabelEncoder()\n",
    "# fullData[var] = number.fit_transform(fullData[var].astype('str'))"
   ]
  },
  {
   "cell_type": "code",
   "execution_count": 122,
   "metadata": {
    "collapsed": true
   },
   "outputs": [],
   "source": [
    "\n",
    "#Target variable is also a categorical so convert it\n",
    "#fullData[\"ALCOHOL\"] = number.fit_transform(fullData[\"ALCOHOL\"].astype('str'))\n",
    "\n",
    "train=fullData[fullData['Type']=='Train']\n",
    "test=fullData[fullData['Type']=='Test']\n"
   ]
  },
  {
   "cell_type": "code",
   "execution_count": 123,
   "metadata": {},
   "outputs": [
    {
     "name": "stderr",
     "output_type": "stream",
     "text": [
      "/Users/anshul/anaconda2/lib/python2.7/site-packages/ipykernel_launcher.py:1: SettingWithCopyWarning: \n",
      "A value is trying to be set on a copy of a slice from a DataFrame.\n",
      "Try using .loc[row_indexer,col_indexer] = value instead\n",
      "\n",
      "See the caveats in the documentation: http://pandas.pydata.org/pandas-docs/stable/indexing.html#indexing-view-versus-copy\n",
      "  \"\"\"Entry point for launching an IPython kernel.\n"
     ]
    }
   ],
   "source": [
    "train['is_train'] = np.random.uniform(0, 1, len(train)) <= .75\n",
    "Train, Validate = train[train['is_train']==True], train[train['is_train']==False]"
   ]
  },
  {
   "cell_type": "code",
   "execution_count": 125,
   "metadata": {
    "collapsed": true
   },
   "outputs": [],
   "source": [
    "features=set(cat_cols)"
   ]
  },
  {
   "cell_type": "code",
   "execution_count": 126,
   "metadata": {},
   "outputs": [],
   "source": [
    "x_train = Train[list(features)].values\n",
    "y_train = Train[\"ALCFLG\"].values\n",
    "x_validate = Validate[list(features)].values\n",
    "y_validate = Validate[\"ALCFLG\"].values\n",
    "x_test=test[list(features)].values"
   ]
  },
  {
   "cell_type": "code",
   "execution_count": 127,
   "metadata": {},
   "outputs": [],
   "source": [
    "random.seed(100)\n",
    "rf = RandomForestClassifier(n_estimators=1000)\n",
    "rf.fit(x_train, y_train)\n",
    "\n",
    "y_test =  rf.predict(x_test)\n",
    "\n",
    "#print y_test.shape\n",
    "#print x_test[\"ALCOHOL\"]\"\"\""
   ]
  },
  {
   "cell_type": "code",
   "execution_count": 128,
   "metadata": {},
   "outputs": [
    {
     "name": "stdout",
     "output_type": "stream",
     "text": [
      "Average precision-recall score: 0.94\n"
     ]
    }
   ],
   "source": [
    "#print test[target_col]\n",
    "\n",
    "from sklearn.metrics import average_precision_score\n",
    "average_precision = average_precision_score(y_test, test[target_col])\n",
    "\n",
    "print('Average precision-recall score: {0:0.2f}'.format(\n",
    "      average_precision))"
   ]
  },
  {
   "cell_type": "code",
   "execution_count": 130,
   "metadata": {},
   "outputs": [
    {
     "name": "stdout",
     "output_type": "stream",
     "text": [
      "0.967577353522\n"
     ]
    },
    {
     "name": "stderr",
     "output_type": "stream",
     "text": [
      "/Users/anshul/anaconda2/lib/python2.7/site-packages/ipykernel_launcher.py:8: SettingWithCopyWarning: \n",
      "A value is trying to be set on a copy of a slice from a DataFrame.\n",
      "Try using .loc[row_indexer,col_indexer] = value instead\n",
      "\n",
      "See the caveats in the documentation: http://pandas.pydata.org/pandas-docs/stable/indexing.html#indexing-view-versus-copy\n",
      "  \n"
     ]
    }
   ],
   "source": [
    "from sklearn.metrics import roc_curve, auc\n",
    "status = rf.predict_proba(x_validate)\n",
    "fpr, tpr, _ = roc_curve(y_validate, status[:,1])\n",
    "roc_auc = auc(fpr, tpr)\n",
    "print roc_auc\n",
    "\n",
    "final_status = rf.predict_proba(x_test)\n",
    "test[\"ALCFLG\"]=final_status[:,1]\n",
    "test.to_csv('/Users/anshul/Documents/CMPE295A/ICPSR_35074/DS0001/model_11282017_output.csv',columns=['CASEID','ALCFLG'])"
   ]
  },
  {
   "cell_type": "code",
   "execution_count": null,
   "metadata": {
    "collapsed": true
   },
   "outputs": [],
   "source": []
  }
 ],
 "metadata": {
  "kernelspec": {
   "display_name": "Python 2",
   "language": "python",
   "name": "python2"
  },
  "language_info": {
   "codemirror_mode": {
    "name": "ipython",
    "version": 2
   },
   "file_extension": ".py",
   "mimetype": "text/x-python",
   "name": "python",
   "nbconvert_exporter": "python",
   "pygments_lexer": "ipython2",
   "version": "2.7.13"
  }
 },
 "nbformat": 4,
 "nbformat_minor": 2
}
